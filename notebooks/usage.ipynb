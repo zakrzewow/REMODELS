{
 "cells": [
  {
   "cell_type": "markdown",
   "metadata": {},
   "source": [
    "# Usage"
   ]
  },
  {
   "cell_type": "code",
   "execution_count": 5,
   "metadata": {},
   "outputs": [],
   "source": [
    "import datetime as dt\n",
    "import pandas as pd\n",
    "\n",
    "pd.options.display.max_columns = 5"
   ]
  },
  {
   "cell_type": "markdown",
   "metadata": {},
   "source": [
    "## #1 Data downloading"
   ]
  },
  {
   "cell_type": "code",
   "execution_count": 2,
   "metadata": {},
   "outputs": [],
   "source": [
    "from remodels.data.EntsoeApi import EntsoeApi\n",
    "\n",
    "start_date = dt.date(2015, 1, 1)\n",
    "end_date = dt.date(2023, 7, 1)"
   ]
  },
  {
   "cell_type": "code",
   "execution_count": 3,
   "metadata": {},
   "outputs": [],
   "source": [
    "# to use Entsoe API, you need a free account to obtain a security token\n",
    "security_token = \"7032e795-c8ae-4a50-aac8-a377b64b1c9e\"\n",
    "\n",
    "entsoeApi = EntsoeApi(security_token)"
   ]
  },
  {
   "cell_type": "markdown",
   "metadata": {},
   "source": [
    "### #1.1 sample data - Germany\n",
    "Data used by B. Uniejewski in his article \"Smoothing Quantile Regression Averaging: A new approach to probabilistic forecasting of electricity prices\""
   ]
  },
  {
   "cell_type": "code",
   "execution_count": 4,
   "metadata": {},
   "outputs": [
    {
     "data": {
      "text/html": [
       "<div>\n",
       "<style scoped>\n",
       "    .dataframe tbody tr th:only-of-type {\n",
       "        vertical-align: middle;\n",
       "    }\n",
       "\n",
       "    .dataframe tbody tr th {\n",
       "        vertical-align: top;\n",
       "    }\n",
       "\n",
       "    .dataframe thead th {\n",
       "        text-align: right;\n",
       "    }\n",
       "</style>\n",
       "<table border=\"1\" class=\"dataframe\">\n",
       "  <thead>\n",
       "    <tr style=\"text-align: right;\">\n",
       "      <th></th>\n",
       "      <th>price_da</th>\n",
       "      <th>quantity</th>\n",
       "    </tr>\n",
       "    <tr>\n",
       "      <th>datetime</th>\n",
       "      <th></th>\n",
       "      <th></th>\n",
       "    </tr>\n",
       "  </thead>\n",
       "  <tbody>\n",
       "    <tr>\n",
       "      <th>2015-01-04 23:00:00</th>\n",
       "      <td>22.34</td>\n",
       "      <td>50326.50</td>\n",
       "    </tr>\n",
       "    <tr>\n",
       "      <th>2015-01-05 00:00:00</th>\n",
       "      <td>17.93</td>\n",
       "      <td>48599.50</td>\n",
       "    </tr>\n",
       "    <tr>\n",
       "      <th>2015-01-05 01:00:00</th>\n",
       "      <td>15.17</td>\n",
       "      <td>47364.00</td>\n",
       "    </tr>\n",
       "    <tr>\n",
       "      <th>2015-01-05 02:00:00</th>\n",
       "      <td>16.38</td>\n",
       "      <td>47292.25</td>\n",
       "    </tr>\n",
       "    <tr>\n",
       "      <th>2015-01-05 03:00:00</th>\n",
       "      <td>17.38</td>\n",
       "      <td>48370.25</td>\n",
       "    </tr>\n",
       "    <tr>\n",
       "      <th>...</th>\n",
       "      <td>...</td>\n",
       "      <td>...</td>\n",
       "    </tr>\n",
       "    <tr>\n",
       "      <th>2023-07-01 17:00:00</th>\n",
       "      <td>82.36</td>\n",
       "      <td>48027.25</td>\n",
       "    </tr>\n",
       "    <tr>\n",
       "      <th>2023-07-01 18:00:00</th>\n",
       "      <td>89.60</td>\n",
       "      <td>46469.00</td>\n",
       "    </tr>\n",
       "    <tr>\n",
       "      <th>2023-07-01 19:00:00</th>\n",
       "      <td>92.79</td>\n",
       "      <td>44480.00</td>\n",
       "    </tr>\n",
       "    <tr>\n",
       "      <th>2023-07-01 20:00:00</th>\n",
       "      <td>92.97</td>\n",
       "      <td>43819.00</td>\n",
       "    </tr>\n",
       "    <tr>\n",
       "      <th>2023-07-01 21:00:00</th>\n",
       "      <td>89.86</td>\n",
       "      <td>41717.00</td>\n",
       "    </tr>\n",
       "  </tbody>\n",
       "</table>\n",
       "<p>74399 rows × 2 columns</p>\n",
       "</div>"
      ],
      "text/plain": [
       "                     price_da  quantity\n",
       "datetime                               \n",
       "2015-01-04 23:00:00     22.34  50326.50\n",
       "2015-01-05 00:00:00     17.93  48599.50\n",
       "2015-01-05 01:00:00     15.17  47364.00\n",
       "2015-01-05 02:00:00     16.38  47292.25\n",
       "2015-01-05 03:00:00     17.38  48370.25\n",
       "...                       ...       ...\n",
       "2023-07-01 17:00:00     82.36  48027.25\n",
       "2023-07-01 18:00:00     89.60  46469.00\n",
       "2023-07-01 19:00:00     92.79  44480.00\n",
       "2023-07-01 20:00:00     92.97  43819.00\n",
       "2023-07-01 21:00:00     89.86  41717.00\n",
       "\n",
       "[74399 rows x 2 columns]"
      ]
     },
     "execution_count": 4,
     "metadata": {},
     "output_type": "execute_result"
    }
   ],
   "source": [
    "# downloading prices\n",
    "# we need to download two time series for the desired period\n",
    "prices_1 = entsoeApi.get_day_ahead_pricing(\n",
    "    start_date,\n",
    "    end_date,\n",
    "    in_domain=\"10Y1001A1001A63L\",\n",
    "    resolution_preference=60,\n",
    ")\n",
    "prices_2 = entsoeApi.get_day_ahead_pricing(\n",
    "    start_date,\n",
    "    end_date,\n",
    "    in_domain=\"10Y1001A1001A82H\",\n",
    "    resolution_preference=60,\n",
    ")\n",
    "prices = pd.concat([prices_1, prices_2])\n",
    "\n",
    "# downloading load forecast\n",
    "# load forecast is an additional variable that helps predict future prices\n",
    "forecast_load_1 = entsoeApi.get_forecast_load(start_date, end_date, \"10Y1001A1001A63L\")\n",
    "forecast_load_2 = entsoeApi.get_forecast_load(start_date, end_date, \"10Y1001A1001A82H\")\n",
    "forecast_load_1 = forecast_load_1.resample(\"H\").mean()\n",
    "forecast_load_2 = forecast_load_2.resample(\"H\").mean()\n",
    "forecast_load = pd.concat([forecast_load_1, forecast_load_2])\n",
    "\n",
    "#\n",
    "germany_data = prices.join(forecast_load)\n",
    "germany_data"
   ]
  },
  {
   "cell_type": "markdown",
   "metadata": {},
   "source": [
    "### #1.2 sample data - Spain\n",
    "Data used by B. Uniejewski in his article \"Smoothing Quantile Regression Averaging: A new approach to probabilistic forecasting of electricity prices\""
   ]
  },
  {
   "cell_type": "code",
   "execution_count": 6,
   "metadata": {},
   "outputs": [],
   "source": [
    "prices_spain = entsoeApi.get_day_ahead_pricing(\n",
    "    start_date, end_date, \"10YES-REE------0\", resolution_preference=60\n",
    ")\n",
    "forecast_load_spain = entsoeApi.get_forecast_load(\n",
    "    start_date, end_date, \"10YES-REE------0\"\n",
    ")\n",
    "forecast_load_spain = forecast_load_spain.resample(\"H\").mean()\n",
    "spain_data = prices_spain.join(forecast_load_spain)"
   ]
  },
  {
   "cell_type": "markdown",
   "metadata": {},
   "source": [
    "### #1.3 sample data - France"
   ]
  },
  {
   "cell_type": "code",
   "execution_count": 7,
   "metadata": {},
   "outputs": [],
   "source": [
    "prices_france = entsoeApi.get_day_ahead_pricing(\n",
    "    start_date, end_date, \"10YFR-RTE------C\", resolution_preference=60\n",
    ")\n",
    "forecast_load_france = entsoeApi.get_forecast_load(\n",
    "    start_date, end_date, \"10YFR-RTE------C\"\n",
    ")\n",
    "france_data = prices_france.join(forecast_load_france)"
   ]
  },
  {
   "cell_type": "code",
   "execution_count": 8,
   "metadata": {},
   "outputs": [],
   "source": [
    "germany_data.to_csv(\"germany_data.csv\")\n",
    "spain_data.to_csv(\"spain_data.csv\")\n",
    "france_data.to_csv(\"france_data.csv\")"
   ]
  },
  {
   "cell_type": "markdown",
   "metadata": {},
   "source": [
    "## #2 Point prediction model"
   ]
  },
  {
   "cell_type": "code",
   "execution_count": 9,
   "metadata": {},
   "outputs": [
    {
     "data": {
      "text/html": [
       "<div>\n",
       "<style scoped>\n",
       "    .dataframe tbody tr th:only-of-type {\n",
       "        vertical-align: middle;\n",
       "    }\n",
       "\n",
       "    .dataframe tbody tr th {\n",
       "        vertical-align: top;\n",
       "    }\n",
       "\n",
       "    .dataframe thead th {\n",
       "        text-align: right;\n",
       "    }\n",
       "</style>\n",
       "<table border=\"1\" class=\"dataframe\">\n",
       "  <thead>\n",
       "    <tr style=\"text-align: right;\">\n",
       "      <th></th>\n",
       "      <th>price_da</th>\n",
       "      <th>load</th>\n",
       "    </tr>\n",
       "    <tr>\n",
       "      <th>datetime</th>\n",
       "      <th></th>\n",
       "      <th></th>\n",
       "    </tr>\n",
       "  </thead>\n",
       "  <tbody>\n",
       "    <tr>\n",
       "      <th>2015-01-04 23:00:00</th>\n",
       "      <td>22.34</td>\n",
       "      <td>50326.50</td>\n",
       "    </tr>\n",
       "    <tr>\n",
       "      <th>2015-01-05 00:00:00</th>\n",
       "      <td>17.93</td>\n",
       "      <td>48599.50</td>\n",
       "    </tr>\n",
       "    <tr>\n",
       "      <th>2015-01-05 01:00:00</th>\n",
       "      <td>15.17</td>\n",
       "      <td>47364.00</td>\n",
       "    </tr>\n",
       "    <tr>\n",
       "      <th>2015-01-05 02:00:00</th>\n",
       "      <td>16.38</td>\n",
       "      <td>47292.25</td>\n",
       "    </tr>\n",
       "    <tr>\n",
       "      <th>2015-01-05 03:00:00</th>\n",
       "      <td>17.38</td>\n",
       "      <td>48370.25</td>\n",
       "    </tr>\n",
       "  </tbody>\n",
       "</table>\n",
       "</div>"
      ],
      "text/plain": [
       "                     price_da      load\n",
       "datetime                               \n",
       "2015-01-04 23:00:00     22.34  50326.50\n",
       "2015-01-05 00:00:00     17.93  48599.50\n",
       "2015-01-05 01:00:00     15.17  47364.00\n",
       "2015-01-05 02:00:00     16.38  47292.25\n",
       "2015-01-05 03:00:00     17.38  48370.25"
      ]
     },
     "execution_count": 9,
     "metadata": {},
     "output_type": "execute_result"
    }
   ],
   "source": [
    "data = pd.read_csv(\"germany_data.csv\", index_col=0, parse_dates=True)\n",
    "data = data.rename(columns={\"quantity\": \"load\"})\n",
    "data.head(5)"
   ]
  },
  {
   "cell_type": "markdown",
   "metadata": {},
   "source": [
    "### #2.1 Adjusting data for Daylight Saving Time changes"
   ]
  },
  {
   "cell_type": "code",
   "execution_count": 10,
   "metadata": {},
   "outputs": [],
   "source": [
    "# useless - data is already properly adjusted\n",
    "from remodels.transformers.DSTAdjuster import DSTAdjuster \n",
    "\n",
    "data = DSTAdjuster().fit_transform(data)"
   ]
  },
  {
   "cell_type": "markdown",
   "metadata": {},
   "source": [
    "#### Example data preparation - lags, additional variables"
   ]
  },
  {
   "cell_type": "code",
   "execution_count": 11,
   "metadata": {},
   "outputs": [
    {
     "data": {
      "text/html": [
       "<div>\n",
       "<style scoped>\n",
       "    .dataframe tbody tr th:only-of-type {\n",
       "        vertical-align: middle;\n",
       "    }\n",
       "\n",
       "    .dataframe tbody tr th {\n",
       "        vertical-align: top;\n",
       "    }\n",
       "\n",
       "    .dataframe thead th {\n",
       "        text-align: right;\n",
       "    }\n",
       "</style>\n",
       "<table border=\"1\" class=\"dataframe\">\n",
       "  <thead>\n",
       "    <tr style=\"text-align: right;\">\n",
       "      <th></th>\n",
       "      <th>price_da</th>\n",
       "      <th>load</th>\n",
       "      <th>...</th>\n",
       "      <th>min_price_da_1D</th>\n",
       "      <th>max_price_da_1D</th>\n",
       "    </tr>\n",
       "    <tr>\n",
       "      <th>datetime</th>\n",
       "      <th></th>\n",
       "      <th></th>\n",
       "      <th></th>\n",
       "      <th></th>\n",
       "      <th></th>\n",
       "    </tr>\n",
       "  </thead>\n",
       "  <tbody>\n",
       "    <tr>\n",
       "      <th>2023-07-01 17:00:00</th>\n",
       "      <td>82.36</td>\n",
       "      <td>48027.25</td>\n",
       "      <td>...</td>\n",
       "      <td>88.46</td>\n",
       "      <td>138.97</td>\n",
       "    </tr>\n",
       "    <tr>\n",
       "      <th>2023-07-01 18:00:00</th>\n",
       "      <td>89.60</td>\n",
       "      <td>46469.00</td>\n",
       "      <td>...</td>\n",
       "      <td>88.46</td>\n",
       "      <td>138.97</td>\n",
       "    </tr>\n",
       "    <tr>\n",
       "      <th>2023-07-01 19:00:00</th>\n",
       "      <td>92.79</td>\n",
       "      <td>44480.00</td>\n",
       "      <td>...</td>\n",
       "      <td>88.46</td>\n",
       "      <td>138.97</td>\n",
       "    </tr>\n",
       "    <tr>\n",
       "      <th>2023-07-01 20:00:00</th>\n",
       "      <td>92.97</td>\n",
       "      <td>43819.00</td>\n",
       "      <td>...</td>\n",
       "      <td>88.46</td>\n",
       "      <td>138.97</td>\n",
       "    </tr>\n",
       "    <tr>\n",
       "      <th>2023-07-01 21:00:00</th>\n",
       "      <td>89.86</td>\n",
       "      <td>41717.00</td>\n",
       "      <td>...</td>\n",
       "      <td>88.46</td>\n",
       "      <td>138.97</td>\n",
       "    </tr>\n",
       "  </tbody>\n",
       "</table>\n",
       "<p>5 rows × 8 columns</p>\n",
       "</div>"
      ],
      "text/plain": [
       "                     price_da      load  ...  min_price_da_1D  max_price_da_1D\n",
       "datetime                                 ...                                  \n",
       "2023-07-01 17:00:00     82.36  48027.25  ...            88.46           138.97\n",
       "2023-07-01 18:00:00     89.60  46469.00  ...            88.46           138.97\n",
       "2023-07-01 19:00:00     92.79  44480.00  ...            88.46           138.97\n",
       "2023-07-01 20:00:00     92.97  43819.00  ...            88.46           138.97\n",
       "2023-07-01 21:00:00     89.86  41717.00  ...            88.46           138.97\n",
       "\n",
       "[5 rows x 8 columns]"
      ]
     },
     "execution_count": 11,
     "metadata": {},
     "output_type": "execute_result"
    }
   ],
   "source": [
    "data = data.assign(\n",
    "    price_da_1D=lambda x: x[\"price_da\"].shift(24),\n",
    "    price_da_2D=lambda x: x[\"price_da\"].shift(2 * 24),\n",
    "    price_da_7D=lambda x: x[\"price_da\"].shift(7 * 24),\n",
    "    price_da_23_1D=lambda x: x.resample(\"D\")[\"price_da\"].transform(\"last\").shift(24),\n",
    "    min_price_da_1D=lambda x: x.resample(\"D\")[\"price_da\"].transform(\"min\").shift(24),\n",
    "    max_price_da_1D=lambda x: x.resample(\"D\")[\"price_da\"].transform(\"max\").shift(24),\n",
    ")\n",
    "data.tail(5)"
   ]
  },
  {
   "cell_type": "markdown",
   "metadata": {},
   "source": [
    "### #2.2 Variance Stabilizing Transformations"
   ]
  },
  {
   "cell_type": "code",
   "execution_count": 12,
   "metadata": {},
   "outputs": [],
   "source": [
    "from remodels.transformers.VSTransformers import ArcsinhScaler\n",
    "from remodels.transformers.VSTransformers import BoxCoxScaler\n",
    "from remodels.transformers.VSTransformers import ClippingScaler\n",
    "from remodels.transformers.VSTransformers import LogClippingScaler\n",
    "from remodels.transformers.VSTransformers import LogisticScaler\n",
    "from remodels.transformers.VSTransformers import MLogScaler\n",
    "from remodels.transformers.VSTransformers import PolyScaler"
   ]
  },
  {
   "cell_type": "code",
   "execution_count": 13,
   "metadata": {},
   "outputs": [
    {
     "data": {
      "text/html": [
       "<div>\n",
       "<style scoped>\n",
       "    .dataframe tbody tr th:only-of-type {\n",
       "        vertical-align: middle;\n",
       "    }\n",
       "\n",
       "    .dataframe tbody tr th {\n",
       "        vertical-align: top;\n",
       "    }\n",
       "\n",
       "    .dataframe thead th {\n",
       "        text-align: right;\n",
       "    }\n",
       "</style>\n",
       "<table border=\"1\" class=\"dataframe\">\n",
       "  <thead>\n",
       "    <tr style=\"text-align: right;\">\n",
       "      <th></th>\n",
       "      <th>price_da</th>\n",
       "      <th>load</th>\n",
       "      <th>...</th>\n",
       "      <th>min_price_da_1D</th>\n",
       "      <th>max_price_da_1D</th>\n",
       "    </tr>\n",
       "    <tr>\n",
       "      <th>datetime</th>\n",
       "      <th></th>\n",
       "      <th></th>\n",
       "      <th></th>\n",
       "      <th></th>\n",
       "      <th></th>\n",
       "    </tr>\n",
       "  </thead>\n",
       "  <tbody>\n",
       "    <tr>\n",
       "      <th>2023-07-01 17:00:00</th>\n",
       "      <td>5.104284</td>\n",
       "      <td>11.472671</td>\n",
       "      <td>...</td>\n",
       "      <td>5.17573</td>\n",
       "      <td>5.627418</td>\n",
       "    </tr>\n",
       "    <tr>\n",
       "      <th>2023-07-01 18:00:00</th>\n",
       "      <td>5.188534</td>\n",
       "      <td>11.439688</td>\n",
       "      <td>...</td>\n",
       "      <td>5.17573</td>\n",
       "      <td>5.627418</td>\n",
       "    </tr>\n",
       "    <tr>\n",
       "      <th>2023-07-01 19:00:00</th>\n",
       "      <td>5.223515</td>\n",
       "      <td>11.395942</td>\n",
       "      <td>...</td>\n",
       "      <td>5.17573</td>\n",
       "      <td>5.627418</td>\n",
       "    </tr>\n",
       "    <tr>\n",
       "      <th>2023-07-01 20:00:00</th>\n",
       "      <td>5.225453</td>\n",
       "      <td>11.380970</td>\n",
       "      <td>...</td>\n",
       "      <td>5.17573</td>\n",
       "      <td>5.627418</td>\n",
       "    </tr>\n",
       "    <tr>\n",
       "      <th>2023-07-01 21:00:00</th>\n",
       "      <td>5.191431</td>\n",
       "      <td>11.331811</td>\n",
       "      <td>...</td>\n",
       "      <td>5.17573</td>\n",
       "      <td>5.627418</td>\n",
       "    </tr>\n",
       "  </tbody>\n",
       "</table>\n",
       "<p>5 rows × 8 columns</p>\n",
       "</div>"
      ],
      "text/plain": [
       "                     price_da       load  ...  min_price_da_1D  \\\n",
       "datetime                                  ...                    \n",
       "2023-07-01 17:00:00  5.104284  11.472671  ...          5.17573   \n",
       "2023-07-01 18:00:00  5.188534  11.439688  ...          5.17573   \n",
       "2023-07-01 19:00:00  5.223515  11.395942  ...          5.17573   \n",
       "2023-07-01 20:00:00  5.225453  11.380970  ...          5.17573   \n",
       "2023-07-01 21:00:00  5.191431  11.331811  ...          5.17573   \n",
       "\n",
       "                     max_price_da_1D  \n",
       "datetime                              \n",
       "2023-07-01 17:00:00         5.627418  \n",
       "2023-07-01 18:00:00         5.627418  \n",
       "2023-07-01 19:00:00         5.627418  \n",
       "2023-07-01 20:00:00         5.627418  \n",
       "2023-07-01 21:00:00         5.627418  \n",
       "\n",
       "[5 rows x 8 columns]"
      ]
     },
     "execution_count": 13,
     "metadata": {},
     "output_type": "execute_result"
    }
   ],
   "source": [
    "# use VSTransformer directly\n",
    "arcsinh_scaler = ArcsinhScaler()\n",
    "transformed_data = arcsinh_scaler.fit_transform(data)\n",
    "transformed_data.tail(5)\n"
   ]
  },
  {
   "cell_type": "code",
   "execution_count": 14,
   "metadata": {},
   "outputs": [
    {
     "data": {
      "text/html": [
       "<div>\n",
       "<style scoped>\n",
       "    .dataframe tbody tr th:only-of-type {\n",
       "        vertical-align: middle;\n",
       "    }\n",
       "\n",
       "    .dataframe tbody tr th {\n",
       "        vertical-align: top;\n",
       "    }\n",
       "\n",
       "    .dataframe thead th {\n",
       "        text-align: right;\n",
       "    }\n",
       "</style>\n",
       "<table border=\"1\" class=\"dataframe\">\n",
       "  <thead>\n",
       "    <tr style=\"text-align: right;\">\n",
       "      <th></th>\n",
       "      <th>price_da</th>\n",
       "      <th>load</th>\n",
       "      <th>...</th>\n",
       "      <th>min_price_da_1D</th>\n",
       "      <th>max_price_da_1D</th>\n",
       "    </tr>\n",
       "    <tr>\n",
       "      <th>datetime</th>\n",
       "      <th></th>\n",
       "      <th></th>\n",
       "      <th></th>\n",
       "      <th></th>\n",
       "      <th></th>\n",
       "    </tr>\n",
       "  </thead>\n",
       "  <tbody>\n",
       "    <tr>\n",
       "      <th>2023-07-01 17:00:00</th>\n",
       "      <td>82.36</td>\n",
       "      <td>48027.25</td>\n",
       "      <td>...</td>\n",
       "      <td>88.46</td>\n",
       "      <td>138.97</td>\n",
       "    </tr>\n",
       "    <tr>\n",
       "      <th>2023-07-01 18:00:00</th>\n",
       "      <td>89.60</td>\n",
       "      <td>46469.00</td>\n",
       "      <td>...</td>\n",
       "      <td>88.46</td>\n",
       "      <td>138.97</td>\n",
       "    </tr>\n",
       "    <tr>\n",
       "      <th>2023-07-01 19:00:00</th>\n",
       "      <td>92.79</td>\n",
       "      <td>44480.00</td>\n",
       "      <td>...</td>\n",
       "      <td>88.46</td>\n",
       "      <td>138.97</td>\n",
       "    </tr>\n",
       "    <tr>\n",
       "      <th>2023-07-01 20:00:00</th>\n",
       "      <td>92.97</td>\n",
       "      <td>43819.00</td>\n",
       "      <td>...</td>\n",
       "      <td>88.46</td>\n",
       "      <td>138.97</td>\n",
       "    </tr>\n",
       "    <tr>\n",
       "      <th>2023-07-01 21:00:00</th>\n",
       "      <td>89.86</td>\n",
       "      <td>41717.00</td>\n",
       "      <td>...</td>\n",
       "      <td>88.46</td>\n",
       "      <td>138.97</td>\n",
       "    </tr>\n",
       "  </tbody>\n",
       "</table>\n",
       "<p>5 rows × 8 columns</p>\n",
       "</div>"
      ],
      "text/plain": [
       "                     price_da      load  ...  min_price_da_1D  max_price_da_1D\n",
       "datetime                                 ...                                  \n",
       "2023-07-01 17:00:00     82.36  48027.25  ...            88.46           138.97\n",
       "2023-07-01 18:00:00     89.60  46469.00  ...            88.46           138.97\n",
       "2023-07-01 19:00:00     92.79  44480.00  ...            88.46           138.97\n",
       "2023-07-01 20:00:00     92.97  43819.00  ...            88.46           138.97\n",
       "2023-07-01 21:00:00     89.86  41717.00  ...            88.46           138.97\n",
       "\n",
       "[5 rows x 8 columns]"
      ]
     },
     "execution_count": 14,
     "metadata": {},
     "output_type": "execute_result"
    }
   ],
   "source": [
    "# apply inverse transformation\n",
    "arcsinh_scaler.inverse_transform(transformed_data)[0].tail(5)"
   ]
  },
  {
   "cell_type": "code",
   "execution_count": 15,
   "metadata": {},
   "outputs": [
    {
     "data": {
      "text/html": [
       "<div>\n",
       "<style scoped>\n",
       "    .dataframe tbody tr th:only-of-type {\n",
       "        vertical-align: middle;\n",
       "    }\n",
       "\n",
       "    .dataframe tbody tr th {\n",
       "        vertical-align: top;\n",
       "    }\n",
       "\n",
       "    .dataframe thead th {\n",
       "        text-align: right;\n",
       "    }\n",
       "</style>\n",
       "<table border=\"1\" class=\"dataframe\">\n",
       "  <thead>\n",
       "    <tr style=\"text-align: right;\">\n",
       "      <th></th>\n",
       "      <th>price_da</th>\n",
       "      <th>load</th>\n",
       "      <th>...</th>\n",
       "      <th>min_price_da_1D</th>\n",
       "      <th>max_price_da_1D</th>\n",
       "    </tr>\n",
       "    <tr>\n",
       "      <th>datetime</th>\n",
       "      <th></th>\n",
       "      <th></th>\n",
       "      <th></th>\n",
       "      <th></th>\n",
       "      <th></th>\n",
       "    </tr>\n",
       "  </thead>\n",
       "  <tbody>\n",
       "    <tr>\n",
       "      <th>2023-07-01 17:00:00</th>\n",
       "      <td>0.603203</td>\n",
       "      <td>2.707741</td>\n",
       "      <td>...</td>\n",
       "      <td>0.618333</td>\n",
       "      <td>0.717811</td>\n",
       "    </tr>\n",
       "    <tr>\n",
       "      <th>2023-07-01 18:00:00</th>\n",
       "      <td>0.621062</td>\n",
       "      <td>2.691912</td>\n",
       "      <td>...</td>\n",
       "      <td>0.618333</td>\n",
       "      <td>0.717811</td>\n",
       "    </tr>\n",
       "    <tr>\n",
       "      <th>2023-07-01 19:00:00</th>\n",
       "      <td>0.628545</td>\n",
       "      <td>2.671017</td>\n",
       "      <td>...</td>\n",
       "      <td>0.618333</td>\n",
       "      <td>0.717811</td>\n",
       "    </tr>\n",
       "    <tr>\n",
       "      <th>2023-07-01 20:00:00</th>\n",
       "      <td>0.628960</td>\n",
       "      <td>2.663892</td>\n",
       "      <td>...</td>\n",
       "      <td>0.618333</td>\n",
       "      <td>0.717811</td>\n",
       "    </tr>\n",
       "    <tr>\n",
       "      <th>2023-07-01 21:00:00</th>\n",
       "      <td>0.621680</td>\n",
       "      <td>2.640592</td>\n",
       "      <td>...</td>\n",
       "      <td>0.618333</td>\n",
       "      <td>0.717811</td>\n",
       "    </tr>\n",
       "  </tbody>\n",
       "</table>\n",
       "<p>5 rows × 8 columns</p>\n",
       "</div>"
      ],
      "text/plain": [
       "                     price_da      load  ...  min_price_da_1D  max_price_da_1D\n",
       "datetime                                 ...                                  \n",
       "2023-07-01 17:00:00  0.603203  2.707741  ...         0.618333         0.717811\n",
       "2023-07-01 18:00:00  0.621062  2.691912  ...         0.618333         0.717811\n",
       "2023-07-01 19:00:00  0.628545  2.671017  ...         0.618333         0.717811\n",
       "2023-07-01 20:00:00  0.628960  2.663892  ...         0.618333         0.717811\n",
       "2023-07-01 21:00:00  0.621680  2.640592  ...         0.618333         0.717811\n",
       "\n",
       "[5 rows x 8 columns]"
      ]
     },
     "execution_count": 15,
     "metadata": {},
     "output_type": "execute_result"
    }
   ],
   "source": [
    "# some VSTransformers may require addtional arguments\n",
    "# e.g. PolyScaler\n",
    "# lamb: exponent used in the polynomial transformation\n",
    "\n",
    "PolyScaler(lamb=0.125).fit_transform(data).tail(5)"
   ]
  },
  {
   "cell_type": "code",
   "execution_count": 16,
   "metadata": {},
   "outputs": [],
   "source": [
    "# later we will pass VSTransformer as an argument in out pipeline"
   ]
  },
  {
   "cell_type": "markdown",
   "metadata": {},
   "source": [
    "### 2.3 Point Model definition & predictions"
   ]
  },
  {
   "cell_type": "code",
   "execution_count": 17,
   "metadata": {},
   "outputs": [],
   "source": [
    "from remodels.transformers import StandardizingScaler\n",
    "from remodels.pointsModels import PointModel\n",
    "from remodels.pipelines import RePipeline\n",
    "\n",
    "# you can use any model represented by the class with .fit(X, y) and .predict(X) methods\n",
    "from sklearn.linear_model import LinearRegression\n",
    "\n",
    "# pipeline - to specify sequence of steps\n",
    "pipeline = RePipeline(\n",
    "    [\n",
    "        (\"standardScaler\", StandardizingScaler()),\n",
    "        (\"vstScaler\", PolyScaler()),\n",
    "        (\"LinearRegression\", LinearRegression()),\n",
    "    ]\n",
    ")\n",
    "\n",
    "# for point model, you have to specify mapping from hour ranges to the variables to be used in those hours\n",
    "# our case is very simple - all variables for each hour\n",
    "X_cols_to_pipeline = [\n",
    "    \"price_da_1D\",\n",
    "    \"price_da_2D\",\n",
    "    \"price_da_7D\",\n",
    "    \"price_da_23_1D\",\n",
    "    \"max_price_da_1D\",\n",
    "    \"min_price_da_1D\",\n",
    "    \"load\",\n",
    "]\n",
    "y_col = \"price_da\"\n",
    "\n",
    "variables_per_hour = {(0, 25): X_cols_to_pipeline}\n",
    "\n",
    "pointModel = PointModel(\n",
    "    pipeline=pipeline,\n",
    "    variables_per_hour=variables_per_hour,\n",
    "    y_column=\"price_da\",\n",
    ")"
   ]
  },
  {
   "cell_type": "code",
   "execution_count": 19,
   "metadata": {},
   "outputs": [
    {
     "data": {
      "text/html": [
       "<div>\n",
       "<style scoped>\n",
       "    .dataframe tbody tr th:only-of-type {\n",
       "        vertical-align: middle;\n",
       "    }\n",
       "\n",
       "    .dataframe tbody tr th {\n",
       "        vertical-align: top;\n",
       "    }\n",
       "\n",
       "    .dataframe thead th {\n",
       "        text-align: right;\n",
       "    }\n",
       "</style>\n",
       "<table border=\"1\" class=\"dataframe\">\n",
       "  <thead>\n",
       "    <tr style=\"text-align: right;\">\n",
       "      <th></th>\n",
       "      <th>MAE</th>\n",
       "      <th>MSE</th>\n",
       "      <th>RMSE</th>\n",
       "      <th>MAPE</th>\n",
       "      <th>R2</th>\n",
       "    </tr>\n",
       "  </thead>\n",
       "  <tbody>\n",
       "    <tr>\n",
       "      <th>prediction_182rw</th>\n",
       "      <td>10.604293</td>\n",
       "      <td>255.073186</td>\n",
       "      <td>15.971011</td>\n",
       "      <td>38.311686</td>\n",
       "      <td>0.616126</td>\n",
       "    </tr>\n",
       "    <tr>\n",
       "      <th>prediction_364rw</th>\n",
       "      <td>10.575550</td>\n",
       "      <td>242.093443</td>\n",
       "      <td>15.559352</td>\n",
       "      <td>56.936760</td>\n",
       "      <td>0.635660</td>\n",
       "    </tr>\n",
       "    <tr>\n",
       "      <th>prediction_728rw</th>\n",
       "      <td>11.036905</td>\n",
       "      <td>263.647687</td>\n",
       "      <td>16.237231</td>\n",
       "      <td>68.703245</td>\n",
       "      <td>0.603222</td>\n",
       "    </tr>\n",
       "  </tbody>\n",
       "</table>\n",
       "</div>"
      ],
      "text/plain": [
       "                        MAE         MSE       RMSE       MAPE        R2\n",
       "prediction_182rw  10.604293  255.073186  15.971011  38.311686  0.616126\n",
       "prediction_364rw  10.575550  242.093443  15.559352  56.936760  0.635660\n",
       "prediction_728rw  11.036905  263.647687  16.237231  68.703245  0.603222"
      ]
     },
     "execution_count": 19,
     "metadata": {},
     "output_type": "execute_result"
    }
   ],
   "source": [
    "# obtaining point predictions\n",
    "\n",
    "# set start date and end date\n",
    "start = dt.date(2017, 1, 1)\n",
    "end = dt.date(2017, 1, 31)\n",
    "\n",
    "# fit point model\n",
    "pointModel.fit(data, start=start, end=end)\n",
    "\n",
    "# get predictions for differend calibration windows\n",
    "point_prediction_182 = pointModel.predict(calibration_window=182, inverse_predictions=True)\n",
    "point_prediction_364 = pointModel.predict(calibration_window=364, inverse_predictions=True)\n",
    "point_prediction_728 = pointModel.predict(calibration_window=728, inverse_predictions=True)\n",
    "\n",
    "# print summary\n",
    "pointModel.summary()"
   ]
  },
  {
   "cell_type": "code",
   "execution_count": 20,
   "metadata": {},
   "outputs": [
    {
     "data": {
      "text/html": [
       "<div>\n",
       "<style scoped>\n",
       "    .dataframe tbody tr th:only-of-type {\n",
       "        vertical-align: middle;\n",
       "    }\n",
       "\n",
       "    .dataframe tbody tr th {\n",
       "        vertical-align: top;\n",
       "    }\n",
       "\n",
       "    .dataframe thead th {\n",
       "        text-align: right;\n",
       "    }\n",
       "</style>\n",
       "<table border=\"1\" class=\"dataframe\">\n",
       "  <thead>\n",
       "    <tr style=\"text-align: right;\">\n",
       "      <th></th>\n",
       "      <th>prediction_182rw</th>\n",
       "      <th>prediction_364rw</th>\n",
       "      <th>prediction_728rw</th>\n",
       "    </tr>\n",
       "    <tr>\n",
       "      <th>DateTime</th>\n",
       "      <th></th>\n",
       "      <th></th>\n",
       "      <th></th>\n",
       "    </tr>\n",
       "  </thead>\n",
       "  <tbody>\n",
       "    <tr>\n",
       "      <th>2017-01-01 00:00:00</th>\n",
       "      <td>17.873043</td>\n",
       "      <td>20.770648</td>\n",
       "      <td>20.528032</td>\n",
       "    </tr>\n",
       "    <tr>\n",
       "      <th>2017-01-01 01:00:00</th>\n",
       "      <td>16.679405</td>\n",
       "      <td>19.760847</td>\n",
       "      <td>19.634005</td>\n",
       "    </tr>\n",
       "    <tr>\n",
       "      <th>2017-01-01 02:00:00</th>\n",
       "      <td>17.734410</td>\n",
       "      <td>18.835915</td>\n",
       "      <td>18.598335</td>\n",
       "    </tr>\n",
       "    <tr>\n",
       "      <th>2017-01-01 03:00:00</th>\n",
       "      <td>17.860881</td>\n",
       "      <td>16.665106</td>\n",
       "      <td>16.783094</td>\n",
       "    </tr>\n",
       "    <tr>\n",
       "      <th>2017-01-01 04:00:00</th>\n",
       "      <td>13.688883</td>\n",
       "      <td>11.613117</td>\n",
       "      <td>10.663689</td>\n",
       "    </tr>\n",
       "    <tr>\n",
       "      <th>...</th>\n",
       "      <td>...</td>\n",
       "      <td>...</td>\n",
       "      <td>...</td>\n",
       "    </tr>\n",
       "    <tr>\n",
       "      <th>2017-01-31 19:00:00</th>\n",
       "      <td>48.427391</td>\n",
       "      <td>51.057764</td>\n",
       "      <td>51.552124</td>\n",
       "    </tr>\n",
       "    <tr>\n",
       "      <th>2017-01-31 20:00:00</th>\n",
       "      <td>40.407145</td>\n",
       "      <td>43.323584</td>\n",
       "      <td>43.491338</td>\n",
       "    </tr>\n",
       "    <tr>\n",
       "      <th>2017-01-31 21:00:00</th>\n",
       "      <td>39.663584</td>\n",
       "      <td>42.214230</td>\n",
       "      <td>40.840423</td>\n",
       "    </tr>\n",
       "    <tr>\n",
       "      <th>2017-01-31 22:00:00</th>\n",
       "      <td>32.503318</td>\n",
       "      <td>33.842903</td>\n",
       "      <td>33.933611</td>\n",
       "    </tr>\n",
       "    <tr>\n",
       "      <th>2017-01-31 23:00:00</th>\n",
       "      <td>33.013635</td>\n",
       "      <td>35.328445</td>\n",
       "      <td>34.316088</td>\n",
       "    </tr>\n",
       "  </tbody>\n",
       "</table>\n",
       "<p>744 rows × 3 columns</p>\n",
       "</div>"
      ],
      "text/plain": [
       "                     prediction_182rw  prediction_364rw  prediction_728rw\n",
       "DateTime                                                                 \n",
       "2017-01-01 00:00:00         17.873043         20.770648         20.528032\n",
       "2017-01-01 01:00:00         16.679405         19.760847         19.634005\n",
       "2017-01-01 02:00:00         17.734410         18.835915         18.598335\n",
       "2017-01-01 03:00:00         17.860881         16.665106         16.783094\n",
       "2017-01-01 04:00:00         13.688883         11.613117         10.663689\n",
       "...                               ...               ...               ...\n",
       "2017-01-31 19:00:00         48.427391         51.057764         51.552124\n",
       "2017-01-31 20:00:00         40.407145         43.323584         43.491338\n",
       "2017-01-31 21:00:00         39.663584         42.214230         40.840423\n",
       "2017-01-31 22:00:00         32.503318         33.842903         33.933611\n",
       "2017-01-31 23:00:00         33.013635         35.328445         34.316088\n",
       "\n",
       "[744 rows x 3 columns]"
      ]
     },
     "execution_count": 20,
     "metadata": {},
     "output_type": "execute_result"
    }
   ],
   "source": [
    "point_predictions = pd.concat([\n",
    "    point_prediction_182,\n",
    "    point_prediction_364,\n",
    "    point_prediction_728\n",
    "], axis=1)\n",
    "\n",
    "point_predictions"
   ]
  },
  {
   "cell_type": "markdown",
   "metadata": {},
   "source": [
    "## #3 QRA model"
   ]
  },
  {
   "cell_type": "code",
   "execution_count": 21,
   "metadata": {},
   "outputs": [],
   "source": [
    "# for now, QRA models require numpy arrays\n",
    "X = point_predictions.to_numpy()\n",
    "y = point_predictions.join(data)[\"price_da\"].to_numpy()"
   ]
  },
  {
   "cell_type": "code",
   "execution_count": 23,
   "metadata": {},
   "outputs": [],
   "source": [
    "# all QRA variants\n",
    "from remodels.qra import QRA\n",
    "from remodels.qra import QRM \n",
    "from remodels.qra import LQRA\n",
    "from remodels.qra import FQRA\n",
    "from remodels.qra import FQRM\n",
    "from remodels.qra import sFQRA\n",
    "from remodels.qra import sFQRM\n",
    "from remodels.qra import SQRA\n",
    "from remodels.qra import SQRM"
   ]
  },
  {
   "cell_type": "markdown",
   "metadata": {},
   "source": [
    "### #3.1 QRA models - direct usage"
   ]
  },
  {
   "cell_type": "code",
   "execution_count": 24,
   "metadata": {},
   "outputs": [
    {
     "data": {
      "text/plain": [
       "array([19.71594299, 18.51816111, 18.40119957, 16.80886388, 12.58936152,\n",
       "        2.92735718, 18.6152022 , 23.41801672, 23.46669472, 23.17472373])"
      ]
     },
     "execution_count": 24,
     "metadata": {},
     "output_type": "execute_result"
    }
   ],
   "source": [
    "# sample prediction\n",
    "# three different quantiles\n",
    "# output is returned as np.array\n",
    "y_pred_q25 = QRA(quantile=0.25, fit_intercept=True).fit(X, y).predict(X)\n",
    "y_pred_q50 = QRA(quantile=0.50, fit_intercept=True).fit(X, y).predict(X)\n",
    "y_pred_q75 = QRA(quantile=0.75, fit_intercept=True).fit(X, y).predict(X)\n",
    "\n",
    "y_pred_q50[:10]"
   ]
  },
  {
   "cell_type": "code",
   "execution_count": 25,
   "metadata": {},
   "outputs": [
    {
     "data": {
      "text/html": [
       "<div>\n",
       "<style scoped>\n",
       "    .dataframe tbody tr th:only-of-type {\n",
       "        vertical-align: middle;\n",
       "    }\n",
       "\n",
       "    .dataframe tbody tr th {\n",
       "        vertical-align: top;\n",
       "    }\n",
       "\n",
       "    .dataframe thead th {\n",
       "        text-align: right;\n",
       "    }\n",
       "</style>\n",
       "<table border=\"1\" class=\"dataframe\">\n",
       "  <thead>\n",
       "    <tr style=\"text-align: right;\">\n",
       "      <th></th>\n",
       "      <th>q25</th>\n",
       "      <th>q50</th>\n",
       "      <th>q75</th>\n",
       "      <th>y_true</th>\n",
       "    </tr>\n",
       "    <tr>\n",
       "      <th>DateTime</th>\n",
       "      <th></th>\n",
       "      <th></th>\n",
       "      <th></th>\n",
       "      <th></th>\n",
       "    </tr>\n",
       "  </thead>\n",
       "  <tbody>\n",
       "    <tr>\n",
       "      <th>2017-01-31 14:00:00</th>\n",
       "      <td>54.186739</td>\n",
       "      <td>66.394722</td>\n",
       "      <td>80.972197</td>\n",
       "      <td>89.75</td>\n",
       "    </tr>\n",
       "    <tr>\n",
       "      <th>2017-01-31 15:00:00</th>\n",
       "      <td>55.208994</td>\n",
       "      <td>66.808502</td>\n",
       "      <td>83.680725</td>\n",
       "      <td>90.20</td>\n",
       "    </tr>\n",
       "    <tr>\n",
       "      <th>2017-01-31 16:00:00</th>\n",
       "      <td>61.288296</td>\n",
       "      <td>75.258385</td>\n",
       "      <td>95.000000</td>\n",
       "      <td>95.00</td>\n",
       "    </tr>\n",
       "    <tr>\n",
       "      <th>2017-01-31 17:00:00</th>\n",
       "      <td>58.128670</td>\n",
       "      <td>70.469383</td>\n",
       "      <td>88.409293</td>\n",
       "      <td>104.33</td>\n",
       "    </tr>\n",
       "    <tr>\n",
       "      <th>2017-01-31 18:00:00</th>\n",
       "      <td>51.582541</td>\n",
       "      <td>61.424381</td>\n",
       "      <td>76.406883</td>\n",
       "      <td>90.00</td>\n",
       "    </tr>\n",
       "    <tr>\n",
       "      <th>2017-01-31 19:00:00</th>\n",
       "      <td>43.948801</td>\n",
       "      <td>50.856552</td>\n",
       "      <td>64.150751</td>\n",
       "      <td>84.15</td>\n",
       "    </tr>\n",
       "    <tr>\n",
       "      <th>2017-01-31 20:00:00</th>\n",
       "      <td>37.979050</td>\n",
       "      <td>42.909250</td>\n",
       "      <td>54.060156</td>\n",
       "      <td>60.92</td>\n",
       "    </tr>\n",
       "    <tr>\n",
       "      <th>2017-01-31 21:00:00</th>\n",
       "      <td>37.354382</td>\n",
       "      <td>42.899396</td>\n",
       "      <td>52.528673</td>\n",
       "      <td>54.90</td>\n",
       "    </tr>\n",
       "    <tr>\n",
       "      <th>2017-01-31 22:00:00</th>\n",
       "      <td>31.108137</td>\n",
       "      <td>33.710300</td>\n",
       "      <td>40.956407</td>\n",
       "      <td>40.69</td>\n",
       "    </tr>\n",
       "    <tr>\n",
       "      <th>2017-01-31 23:00:00</th>\n",
       "      <td>32.103146</td>\n",
       "      <td>35.591743</td>\n",
       "      <td>43.332177</td>\n",
       "      <td>44.91</td>\n",
       "    </tr>\n",
       "  </tbody>\n",
       "</table>\n",
       "</div>"
      ],
      "text/plain": [
       "                           q25        q50        q75  y_true\n",
       "DateTime                                                    \n",
       "2017-01-31 14:00:00  54.186739  66.394722  80.972197   89.75\n",
       "2017-01-31 15:00:00  55.208994  66.808502  83.680725   90.20\n",
       "2017-01-31 16:00:00  61.288296  75.258385  95.000000   95.00\n",
       "2017-01-31 17:00:00  58.128670  70.469383  88.409293  104.33\n",
       "2017-01-31 18:00:00  51.582541  61.424381  76.406883   90.00\n",
       "2017-01-31 19:00:00  43.948801  50.856552  64.150751   84.15\n",
       "2017-01-31 20:00:00  37.979050  42.909250  54.060156   60.92\n",
       "2017-01-31 21:00:00  37.354382  42.899396  52.528673   54.90\n",
       "2017-01-31 22:00:00  31.108137  33.710300  40.956407   40.69\n",
       "2017-01-31 23:00:00  32.103146  35.591743  43.332177   44.91"
      ]
     },
     "execution_count": 25,
     "metadata": {},
     "output_type": "execute_result"
    }
   ],
   "source": [
    "pd.DataFrame(\n",
    "    dict(q25=y_pred_q25, q50=y_pred_q50, q75=y_pred_q75, y_true=y),\n",
    "    index=point_predictions.index,\n",
    ").tail(10)"
   ]
  },
  {
   "cell_type": "code",
   "execution_count": 26,
   "metadata": {},
   "outputs": [
    {
     "data": {
      "text/plain": [
       "array([20.82443897, 19.74028314, 19.55087324, 18.22740215, 13.4766444 ,\n",
       "        4.2748866 , 18.34540101, 22.75212594, 23.07812124, 23.05093359])"
      ]
     },
     "execution_count": 26,
     "metadata": {},
     "output_type": "execute_result"
    }
   ],
   "source": [
    "# some QRA models may require addtional parameters\n",
    "# e.g. LQRA\n",
    "# lambda_: LASSO regularization parameter\n",
    "LQRA(quantile=0.50, lambda_=1, fit_intercept=True).fit(X, y).predict(X)[:10]"
   ]
  },
  {
   "cell_type": "markdown",
   "metadata": {},
   "source": [
    "### #3.2 QRA Tester"
   ]
  },
  {
   "cell_type": "code",
   "execution_count": 27,
   "metadata": {},
   "outputs": [],
   "source": [
    "from remodels.qra.tester import QR_Tester"
   ]
  },
  {
   "cell_type": "code",
   "execution_count": 44,
   "metadata": {},
   "outputs": [
    {
     "name": "stderr",
     "output_type": "stream",
     "text": [
      "100%|██████████| 28/28 [00:40<00:00,  1.45s/it]\n"
     ]
    }
   ],
   "source": [
    "# QR_Tester fits model on initial `calibration_window` period\n",
    "# predicts next `prediction_window` values (every quantile)\n",
    "# moves window and repeats\n",
    "\n",
    "qra_model = LQRA(quantile=0.50, lambda_=1, fit_intercept=True)\n",
    "\n",
    "results = QR_Tester(\n",
    "    calibration_window=72,\n",
    "    prediction_window=24,\n",
    "    qr_model=qra_model,     # any QR model\n",
    "    max_workers=4,          # multiprocessing max workers\n",
    ").fit_predict(X, y)"
   ]
  },
  {
   "cell_type": "code",
   "execution_count": 45,
   "metadata": {},
   "outputs": [
    {
     "name": "stdout",
     "output_type": "stream",
     "text": [
      "X.shape: (744, 3)\n",
      "y.shape: (744,)\n",
      "Y_pred.shape: (672, 99)\n"
     ]
    }
   ],
   "source": [
    "print(\"X.shape:\", X.shape)\n",
    "print(\"y.shape:\", y.shape)\n",
    "print(\"Y_pred.shape:\", results.Y_pred.shape)  # without initial `calibration_window` period"
   ]
  },
  {
   "cell_type": "code",
   "execution_count": 46,
   "metadata": {},
   "outputs": [
    {
     "data": {
      "text/html": [
       "<div>\n",
       "<style scoped>\n",
       "    .dataframe tbody tr th:only-of-type {\n",
       "        vertical-align: middle;\n",
       "    }\n",
       "\n",
       "    .dataframe tbody tr th {\n",
       "        vertical-align: top;\n",
       "    }\n",
       "\n",
       "    .dataframe thead th {\n",
       "        text-align: right;\n",
       "    }\n",
       "</style>\n",
       "<table border=\"1\" class=\"dataframe\">\n",
       "  <thead>\n",
       "    <tr style=\"text-align: right;\">\n",
       "      <th></th>\n",
       "      <th>0</th>\n",
       "      <th>1</th>\n",
       "      <th>...</th>\n",
       "      <th>97</th>\n",
       "      <th>98</th>\n",
       "    </tr>\n",
       "  </thead>\n",
       "  <tbody>\n",
       "    <tr>\n",
       "      <th>669</th>\n",
       "      <td>37.20</td>\n",
       "      <td>37.20</td>\n",
       "      <td>...</td>\n",
       "      <td>45.60</td>\n",
       "      <td>45.60</td>\n",
       "    </tr>\n",
       "    <tr>\n",
       "      <th>670</th>\n",
       "      <td>33.74</td>\n",
       "      <td>33.74</td>\n",
       "      <td>...</td>\n",
       "      <td>36.59</td>\n",
       "      <td>36.59</td>\n",
       "    </tr>\n",
       "    <tr>\n",
       "      <th>671</th>\n",
       "      <td>33.06</td>\n",
       "      <td>33.06</td>\n",
       "      <td>...</td>\n",
       "      <td>36.51</td>\n",
       "      <td>36.51</td>\n",
       "    </tr>\n",
       "  </tbody>\n",
       "</table>\n",
       "<p>3 rows × 99 columns</p>\n",
       "</div>"
      ],
      "text/plain": [
       "        0      1   ...     97     98\n",
       "669  37.20  37.20  ...  45.60  45.60\n",
       "670  33.74  33.74  ...  36.59  36.59\n",
       "671  33.06  33.06  ...  36.51  36.51\n",
       "\n",
       "[3 rows x 99 columns]"
      ]
     },
     "execution_count": 46,
     "metadata": {},
     "output_type": "execute_result"
    }
   ],
   "source": [
    "# all 99 percentiles\n",
    "pd.DataFrame(results.Y_pred).tail(3)"
   ]
  },
  {
   "cell_type": "markdown",
   "metadata": {},
   "source": [
    "### # 3.3 Probabilistic predictions metrics"
   ]
  },
  {
   "cell_type": "code",
   "execution_count": 47,
   "metadata": {},
   "outputs": [
    {
     "data": {
      "text/plain": [
       "<remodels.qra.tester.qr_tester.QR_TestResults at 0x1141c9203d0>"
      ]
     },
     "execution_count": 47,
     "metadata": {},
     "output_type": "execute_result"
    }
   ],
   "source": [
    "# from 3.2\n",
    "results"
   ]
  },
  {
   "cell_type": "code",
   "execution_count": 48,
   "metadata": {},
   "outputs": [
    {
     "data": {
      "text/plain": [
       "0.29910714285714285"
      ]
     },
     "execution_count": 48,
     "metadata": {},
     "output_type": "execute_result"
    }
   ],
   "source": [
    "# average empirical coverage\n",
    "# alpha: length of prediction interval\n",
    "# e.g. alpha=50 --> prediction interval from 25 to 75 percentile\n",
    "\n",
    "# desired: 50, obtained: 30 --> prediction intervals are too narrow\n",
    "results.aec(alpha=50) "
   ]
  },
  {
   "cell_type": "code",
   "execution_count": 49,
   "metadata": {},
   "outputs": [
    {
     "data": {
      "text/plain": [
       "array([0.39285714, 0.35714286, 0.35714286, 0.39285714, 0.25      ,\n",
       "       0.32142857, 0.17857143, 0.21428571, 0.25      , 0.25      ,\n",
       "       0.17857143, 0.17857143, 0.32142857, 0.32142857, 0.28571429,\n",
       "       0.25      , 0.17857143, 0.21428571, 0.39285714, 0.32142857,\n",
       "       0.35714286, 0.28571429, 0.42857143, 0.5       ])"
      ]
     },
     "execution_count": 49,
     "metadata": {},
     "output_type": "execute_result"
    }
   ],
   "source": [
    "# average empirical coverage per hour\n",
    "results.ec_h(alpha=50) "
   ]
  },
  {
   "cell_type": "code",
   "execution_count": 50,
   "metadata": {},
   "outputs": [
    {
     "data": {
      "text/plain": [
       "0.20089285714285712"
      ]
     },
     "execution_count": 50,
     "metadata": {},
     "output_type": "execute_result"
    }
   ],
   "source": [
    "# mean absolute deviation of empirical coverage per hour\n",
    "results.ec_mad(alpha=50) "
   ]
  },
  {
   "cell_type": "code",
   "execution_count": 51,
   "metadata": {},
   "outputs": [
    {
     "data": {
      "text/plain": [
       "12"
      ]
     },
     "execution_count": 51,
     "metadata": {},
     "output_type": "execute_result"
    }
   ],
   "source": [
    "# Kupiec test for condidional coverage\n",
    "\n",
    "# returns: number of hours that test is not rejected\n",
    "# the higher, the better\n",
    "results.kupiec_test(alpha=50, significance_level=0.05) "
   ]
  },
  {
   "cell_type": "code",
   "execution_count": 53,
   "metadata": {},
   "outputs": [
    {
     "data": {
      "text/plain": [
       "12"
      ]
     },
     "execution_count": 53,
     "metadata": {},
     "output_type": "execute_result"
    }
   ],
   "source": [
    "# Christoffersen test \n",
    "\n",
    "# returns: number of hours that test is not rejected\n",
    "# the higher, the better\n",
    "results.christoffersen_test(alpha=50, significance_level=0.05) "
   ]
  },
  {
   "cell_type": "code",
   "execution_count": 54,
   "metadata": {},
   "outputs": [
    {
     "data": {
      "text/plain": [
       "6.396220669611519"
      ]
     },
     "execution_count": 54,
     "metadata": {},
     "output_type": "execute_result"
    }
   ],
   "source": [
    "# aggregate pinball score.\n",
    "results.aps()"
   ]
  }
 ],
 "metadata": {
  "kernelspec": {
   "display_name": "remodels",
   "language": "python",
   "name": "python3"
  },
  "language_info": {
   "codemirror_mode": {
    "name": "ipython",
    "version": 3
   },
   "file_extension": ".py",
   "mimetype": "text/x-python",
   "name": "python",
   "nbconvert_exporter": "python",
   "pygments_lexer": "ipython3",
   "version": "3.10.11"
  }
 },
 "nbformat": 4,
 "nbformat_minor": 2
}
