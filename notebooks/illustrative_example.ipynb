{
 "cells": [
  {
   "cell_type": "code",
   "execution_count": null,
   "metadata": {},
   "outputs": [],
   "source": [
    "# data downloading\n",
    "import datetime as dt\n",
    "from remodels.data.EntsoeApi import EntsoeApi\n",
    "\n",
    "start_date = dt.date(2015, 1, 1)\n",
    "end_date = dt.date(2017, 1, 1)\n",
    "security_token = \"7032e795-c8ae-4a50-aac8-a377b64b1c9e\"  #\"...\"  # free token from https://transparency.entsoe.eu/\n",
    "entsoe_api = EntsoeApi(security_token)\n",
    "prices = entsoe_api.get_day_ahead_pricing(\n",
    "    start_date,\n",
    "    end_date,\n",
    "    \"10Y1001A1001A63L\",  # Germany domain code in ENTSO-E\n",
    "    resolution_preference=60,  # resolution in minutes\n",
    ")\n",
    "forecast_load = entsoe_api.get_forecast_load(\n",
    "    start_date, \n",
    "    end_date, \n",
    "    \"10Y1001A1001A63L\"\n",
    ")\n",
    "germany_data = prices.join(forecast_load)"
   ]
  },
  {
   "cell_type": "code",
   "execution_count": null,
   "metadata": {},
   "outputs": [],
   "source": [
    "# VST & point predictions\n",
    "from remodels.pipelines.RePipeline import RePipeline\n",
    "from remodels.pointsModels import PointModel\n",
    "from remodels.transformers import StandardizingScaler\n",
    "from remodels.transformers.VSTransformers import ArcsinhScaler\n",
    "from sklearn.linear_model import LinearRegression\n",
    "\n",
    "pipeline = RePipeline(\n",
    "    [\n",
    "        (\"standardScaler\", StandardizingScaler()),\n",
    "        (\"vstScaler\", ArcsinhScaler()),\n",
    "        (\"linearRegression\", LinearRegression()),\n",
    "    ]\n",
    ")\n",
    "pointModel = PointModel(pipeline=pipeline)\n",
    "pointModel.fit(germany_data, dt.date(2016, 12, 1), dt.date(2016, 12, 31))\n",
    "point_predictions = pointModel.predict(calibration_window=182)"
   ]
  },
  {
   "cell_type": "code",
   "execution_count": null,
   "metadata": {},
   "outputs": [],
   "source": [
    "# point predictions metrics\n",
    "pointModel.summary()"
   ]
  },
  {
   "cell_type": "code",
   "execution_count": null,
   "metadata": {},
   "outputs": [],
   "source": [
    "# probabilistic predictions\n",
    "from remodels.qra import QRA\n",
    "from remodels.qra.tester import QR_Tester\n",
    "\n",
    "# actual prices - target variable in QRA model\n",
    "price_da = point_predictions.join(germany_data)[\"price_da\"]\n",
    "# selected QRA variant\n",
    "qra_model = QRA(fit_intercept=True)\n",
    "\n",
    "results = QR_Tester(\n",
    "    calibration_window=72,\n",
    "    qr_model=qra_model\n",
    ").fit_predict(point_predictions, price_da)"
   ]
  },
  {
   "cell_type": "code",
   "execution_count": null,
   "metadata": {},
   "outputs": [],
   "source": [
    "# probabilistic predictions metrics\n",
    "# alpha=50 is excpected coverage of prediction intervals\n",
    "results.aec(alpha=50)  # Average Empirical Coverage"
   ]
  },
  {
   "cell_type": "code",
   "execution_count": null,
   "metadata": {},
   "outputs": [],
   "source": [
    "results.kupiec_test(alpha=50, significance_level=0.05) "
   ]
  },
  {
   "cell_type": "code",
   "execution_count": null,
   "metadata": {},
   "outputs": [],
   "source": [
    "results.christoffersen_test(alpha=50, significance_level=0.05)"
   ]
  },
  {
   "cell_type": "code",
   "execution_count": null,
   "metadata": {},
   "outputs": [],
   "source": [
    "results.aps()  # Aggregate Pinball Score"
   ]
  }
 ],
 "metadata": {
  "kernelspec": {
   "display_name": "remodels-LxKHv9jC-py3.10",
   "language": "python",
   "name": "python3"
  },
  "language_info": {
   "codemirror_mode": {
    "name": "ipython",
    "version": 3
   },
   "file_extension": ".py",
   "mimetype": "text/x-python",
   "name": "python",
   "nbconvert_exporter": "python",
   "pygments_lexer": "ipython3",
   "version": "3.10.11"
  }
 },
 "nbformat": 4,
 "nbformat_minor": 2
}
